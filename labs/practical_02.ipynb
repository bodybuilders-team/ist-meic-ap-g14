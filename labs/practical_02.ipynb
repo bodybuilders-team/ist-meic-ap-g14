{
 "cells": [
  {
   "cell_type": "markdown",
   "metadata": {},
   "source": [
    "# Perceptron\n",
    "\n",
    "Answer all marked questions (❓).  "
   ]
  },
  {
   "cell_type": "code",
   "execution_count": 26,
   "metadata": {
    "ExecuteTime": {
     "end_time": "2023-11-22T20:19:09.683329700Z",
     "start_time": "2023-11-22T20:19:09.674331300Z"
    }
   },
   "outputs": [],
   "source": [
    "import numpy as np\n",
    "%matplotlib inline"
   ]
  },
  {
   "cell_type": "markdown",
   "metadata": {},
   "source": [
    "## Question 1"
   ]
  },
  {
   "cell_type": "markdown",
   "metadata": {},
   "source": [
    "Consider the following linearly separable training set:\n",
    "\n",
    "$\\mathbf{x^{(1)}} =\\begin{bmatrix} -1 \\\\ 0  \\\\ \\end{bmatrix} $,  $\\mathbf{x^{(2)}} =\\begin{bmatrix} 0 \\\\ 0.25  \\\\ \\end{bmatrix} $,   $\\mathbf{x^{(3)}} =\\begin{bmatrix} 1 \\\\ 1 \\\\ \\end{bmatrix} $,      $\\mathbf{x^{(4)}} =\\begin{bmatrix} 1 \\\\ -1  \\\\ \\end{bmatrix} $\n",
    "\n",
    "$y^{(1)} = -1$, $y^{(2)} = +1$, $y^{(3)} = +1$, $y^{(4)} = -1$\n"
   ]
  },
  {
   "cell_type": "code",
   "execution_count": null,
   "metadata": {},
   "outputs": [],
   "source": [
    "# Define points\n",
    "inputs = np.array([[-1, 0], [0, 0.25], [1, 1], [1, -1]])\n",
    "labels = np.array([-1, 1, 1, -1])\n",
    "\n",
    "num_examples, num_features = np.shape(inputs)\n",
    "\n",
    "# Augment points with a dimension for the bias.\n",
    "inputs = np.concatenate([np.ones((num_examples, 1)), inputs], axis=1)\n",
    "\n",
    "print(np.shape(inputs))"
   ]
  },
  {
   "cell_type": "markdown",
   "metadata": {},
   "source": [
    "❓ Let us use the perceptron algorithm to separate the two classes of points.\n",
    "\n",
    "1. Initialize all weights to zero (including the bias) \n",
    "2. Assume $sign(z) = +1$ iff $z ≥ 0$, and $−1$ if $z < 0$ \n",
    "3. Complete provided fucntion `perceptron_epoch` which performs one epoch of the perceptron algorithm\n",
    "4. Use a learning rate of one\n",
    "5. Apply algorithm until convergence \n",
    "\n",
    "Note: You can use provided function `plot_separation_line` to see the points and the separating hyperplane in each epoch"
   ]
  },
  {
   "cell_type": "code",
   "execution_count": null,
   "metadata": {},
   "outputs": [],
   "source": [
    "def perceptron_epoch(inputs, labels, w, eta):\n",
    "    \"\"\"\n",
    "    Function to execute perceptron epoch. \n",
    "    \n",
    "    Receives inputs, labels, previous weights (w) and learning rate(eta)\n",
    "    \n",
    "    Should output number of mistakes and new weights\n",
    "    \"\"\"\n",
    "    mistakes = 0\n",
    "\n",
    "    for x, y in zip(inputs, labels):\n",
    "        y_hat = np.sign(np.dot(w, x))\n",
    "        if y_hat != y:\n",
    "            mistakes += 1\n",
    "            w += eta * y * x\n",
    "\n",
    "    print(\"Mistakes: %d\" % mistakes)\n",
    "    print(\"Weights: %s\" % w)\n",
    "    return mistakes, w"
   ]
  },
  {
   "cell_type": "code",
   "execution_count": null,
   "metadata": {},
   "outputs": [],
   "source": [
    "# Plot separation line associated with model w, along with the data.\n",
    "def plot_separation_line(inputs, labels, w):\n",
    "    # Plot data.\n",
    "    plt.plot(inputs[labels == -1, 1], inputs[labels == -1, 2], \"b.\")\n",
    "    plt.plot(inputs[labels == 1, 1], inputs[labels == 1, 2], \"r.\")\n",
    "    # Plot model separation line.\n",
    "    x1 = np.array([-2, 2])\n",
    "    x2 = (-w[0] - w[1] * x1) / w[2]\n",
    "    plt.plot(x1, x2, 'k--')\n",
    "    plt.show()"
   ]
  },
  {
   "cell_type": "code",
   "execution_count": null,
   "outputs": [],
   "source": [
    "# Initialize weights and apply algorithm until convergence\n",
    "w = np.zeros(3)  # weights\n",
    "eta = 1  # learning rate\n",
    "converged = False\n",
    "\n",
    "while not converged:\n",
    "    mistakes, w = perceptron_epoch(inputs, labels, w, eta)\n",
    "    plot_separation_line(inputs, labels, w)\n",
    "    if mistakes == 0:\n",
    "        converged = True"
   ],
   "metadata": {
    "collapsed": false
   }
  },
  {
   "cell_type": "markdown",
   "metadata": {},
   "source": [
    "❓ What is the perceptron output for query point $\\begin{bmatrix} 0 && 1   \\end{bmatrix}^T$?"
   ]
  },
  {
   "cell_type": "code",
   "execution_count": null,
   "metadata": {},
   "outputs": [],
   "source": [
    "y = np.sign(np.dot(w, np.array([1, 0, 1])))\n",
    "print(y)"
   ]
  },
  {
   "cell_type": "markdown",
   "metadata": {},
   "source": [
    "❓ Change the initialization of weights and biases to be random with a standard normal distribution $\\mathcal{N}(0,1)$. Try multiple times. Does it always converge?\n",
    "\n",
    "*Hint:* `np.random.randn`"
   ]
  },
  {
   "cell_type": "code",
   "execution_count": null,
   "metadata": {},
   "outputs": [],
   "source": [
    "weights = np.random.randn(3)\n",
    "eta = 1\n",
    "converged = False\n",
    "\n",
    "while not converged:\n",
    "    mistakes, weights = perceptron_epoch(inputs, labels, weights, eta)\n",
    "    plot_separation_line(inputs, labels, weights)\n",
    "    if mistakes == 0:\n",
    "        converged = True"
   ]
  },
  {
   "cell_type": "markdown",
   "metadata": {},
   "source": [
    "## Question 2 "
   ]
  },
  {
   "cell_type": "markdown",
   "metadata": {},
   "source": [
    "Let us generate a balanced dataset with 30 examples in $\\mathbb{R}^2$ and 3 classes. \n",
    "Assume each of the 10 inputs associated to class $k \\in \\{0,1,2\\}$ is generated as $x \\sim \\mathcal{N}(\\mu_k, \\sigma_k^2 I)$, with $\\sigma_0=\\sigma_1=\\sigma_2 = 1$, \n",
    "$\\mu_0 = [0, 0]^\\top$, $\\mu_1 = [0, 3]^\\top$, and $\\mu_2 = [2, 2]^\\top$.\n",
    "\n",
    "❓ Plot the data"
   ]
  },
  {
   "cell_type": "code",
   "execution_count": null,
   "metadata": {},
   "outputs": [],
   "source": [
    "np.random.seed(42)\n",
    "\n",
    "inputs0 = np.array([0, 0]) + np.random.randn(10, 2)\n",
    "inputs1 = np.array([0, 3]) + np.random.randn(10, 2)\n",
    "inputs2 = np.array([2, 2]) + np.random.randn(10, 2)\n",
    "\n",
    "inputs = np.concatenate([inputs0, inputs1, inputs2], axis=0)\n",
    "\n",
    "# Augment points with a dimension for the bias.\n",
    "inputs = np.concatenate([np.ones((30, 1)), inputs], axis=1)\n",
    "\n",
    "labels = np.array([0] * 10 + [1] * 10 + [2] * 10)\n",
    "\n",
    "# Shuffling observations\n",
    "ind = np.random.permutation(30)\n",
    "inputs = inputs[ind, :]\n",
    "labels = labels[ind]"
   ]
  },
  {
   "cell_type": "code",
   "execution_count": 27,
   "metadata": {
    "ExecuteTime": {
     "end_time": "2023-11-22T20:19:16.475552300Z",
     "start_time": "2023-11-22T20:19:16.367420200Z"
    }
   },
   "outputs": [
    {
     "data": {
      "text/plain": "<Figure size 640x480 with 1 Axes>",
      "image/png": "[encoded data removed]"
     },
     "metadata": {},
     "output_type": "display_data"
    }
   ],
   "source": [
    "# Plot data\n",
    "plt.plot(inputs[labels == 0, 1], inputs[labels == 0, 2], \"b.\")\n",
    "plt.plot(inputs[labels == 1, 1], inputs[labels == 1, 2], \"r.\")\n",
    "plt.plot(inputs[labels == 2, 1], inputs[labels == 2, 2], \"g.\")\n",
    "plt.show()\n"
   ]
  },
  {
   "cell_type": "markdown",
   "metadata": {},
   "source": [
    "❓ Implement the multi-class perceptron algorithm by completing the `multi_class_perceptron_epoch` function. \n",
    "\n",
    "❓ Complete function `multi_class_classify` so that it provides the predicted labels given the inputs and the weights.\n",
    "\n",
    "❓ Create or import a function that computes accuracy given the arrays of predicted and correct labels.\n",
    "\n",
    "❓ Run 100 iterations of the algorithm, initializing all the weights to zero and using a learning rate of one. Save the accuracy of each epoch in a list. \n",
    "\n",
    "❓ What is the training accuracy (fraction of points that are correctly classified)?\n",
    "\n",
    "❓ Plot the accuracies over epochs.\n",
    "\n",
    "Note: Don't forget you have to augment the `inputs` with a dimension for the bias!"
   ]
  },
  {
   "cell_type": "code",
   "execution_count": 23,
   "metadata": {
    "ExecuteTime": {
     "end_time": "2023-11-22T20:17:09.232656200Z",
     "start_time": "2023-11-22T20:17:09.222657500Z"
    }
   },
   "outputs": [],
   "source": [
    "def multi_class_perceptron_epoch(inputs, labels, W, eta=1):\n",
    "    mistakes = 0\n",
    "    for x, y in zip(inputs, labels):\n",
    "        y_hat = np.argmax(np.dot(W, x))\n",
    "        if y_hat != y:\n",
    "            mistakes += 1\n",
    "            W[y] += eta * x\n",
    "            W[y_hat] -= eta * x\n",
    "\n",
    "    print(\"Mistakes: %d\" % mistakes)\n",
    "    return W"
   ]
  },
  {
   "cell_type": "code",
   "execution_count": 24,
   "metadata": {
    "ExecuteTime": {
     "end_time": "2023-11-22T20:18:23.199113700Z",
     "start_time": "2023-11-22T20:18:23.182115100Z"
    }
   },
   "outputs": [],
   "source": [
    "def multi_class_classify(inputs, W):\n",
    "    predicted_labels = np.argmax(np.dot(inputs, W.T), axis=1)\n",
    "    return predicted_labels"
   ]
  },
  {
   "cell_type": "code",
   "execution_count": 25,
   "metadata": {
    "ExecuteTime": {
     "end_time": "2023-11-22T20:18:52.036380200Z",
     "start_time": "2023-11-22T20:18:52.024375600Z"
    }
   },
   "outputs": [],
   "source": [
    "def accuracy(y_pred, y_true):\n",
    "    return np.mean(y_pred == y_true)"
   ]
  },
  {
   "cell_type": "code",
   "execution_count": 30,
   "outputs": [
    {
     "name": "stdout",
     "output_type": "stream",
     "text": [
      "Mistakes: 9\n",
      "Accuracy: 0.800000\n",
      "Mistakes: 7\n",
      "Accuracy: 0.766667\n",
      "Mistakes: 8\n",
      "Accuracy: 0.733333\n",
      "Mistakes: 7\n",
      "Accuracy: 0.833333\n",
      "Mistakes: 5\n",
      "Accuracy: 0.833333\n",
      "Mistakes: 6\n",
      "Accuracy: 0.766667\n",
      "Mistakes: 7\n",
      "Accuracy: 0.833333\n",
      "Mistakes: 5\n",
      "Accuracy: 0.766667\n",
      "Mistakes: 5\n",
      "Accuracy: 0.800000\n",
      "Mistakes: 6\n",
      "Accuracy: 0.766667\n",
      "Mistakes: 7\n",
      "Accuracy: 0.800000\n",
      "Mistakes: 4\n",
      "Accuracy: 0.833333\n",
      "Mistakes: 6\n",
      "Accuracy: 0.800000\n",
      "Mistakes: 4\n",
      "Accuracy: 0.766667\n",
      "Mistakes: 6\n",
      "Accuracy: 0.833333\n",
      "Mistakes: 5\n",
      "Accuracy: 0.800000\n",
      "Mistakes: 6\n",
      "Accuracy: 0.833333\n",
      "Mistakes: 7\n",
      "Accuracy: 0.833333\n",
      "Mistakes: 5\n",
      "Accuracy: 0.833333\n",
      "Mistakes: 6\n",
      "Accuracy: 0.800000\n",
      "Mistakes: 7\n",
      "Accuracy: 0.833333\n",
      "Mistakes: 7\n",
      "Accuracy: 0.800000\n",
      "Mistakes: 8\n",
      "Accuracy: 0.800000\n",
      "Mistakes: 7\n",
      "Accuracy: 0.800000\n",
      "Mistakes: 7\n",
      "Accuracy: 0.733333\n",
      "Mistakes: 8\n",
      "Accuracy: 0.800000\n",
      "Mistakes: 6\n",
      "Accuracy: 0.833333\n",
      "Mistakes: 6\n",
      "Accuracy: 0.800000\n",
      "Mistakes: 7\n",
      "Accuracy: 0.866667\n",
      "Mistakes: 6\n",
      "Accuracy: 0.833333\n",
      "Mistakes: 5\n",
      "Accuracy: 0.833333\n",
      "Mistakes: 5\n",
      "Accuracy: 0.800000\n",
      "Mistakes: 7\n",
      "Accuracy: 0.800000\n",
      "Mistakes: 8\n",
      "Accuracy: 0.833333\n",
      "Mistakes: 7\n",
      "Accuracy: 0.833333\n",
      "Mistakes: 7\n",
      "Accuracy: 0.800000\n",
      "Mistakes: 8\n",
      "Accuracy: 0.833333\n",
      "Mistakes: 7\n",
      "Accuracy: 0.800000\n",
      "Mistakes: 8\n",
      "Accuracy: 0.833333\n",
      "Mistakes: 6\n",
      "Accuracy: 0.833333\n",
      "Mistakes: 7\n",
      "Accuracy: 0.766667\n",
      "Mistakes: 8\n",
      "Accuracy: 0.800000\n",
      "Mistakes: 7\n",
      "Accuracy: 0.800000\n",
      "Mistakes: 7\n",
      "Accuracy: 0.733333\n",
      "Mistakes: 7\n",
      "Accuracy: 0.833333\n",
      "Mistakes: 7\n",
      "Accuracy: 0.800000\n",
      "Mistakes: 6\n",
      "Accuracy: 0.833333\n",
      "Mistakes: 7\n",
      "Accuracy: 0.833333\n",
      "Mistakes: 7\n",
      "Accuracy: 0.766667\n",
      "Mistakes: 8\n",
      "Accuracy: 0.833333\n",
      "Mistakes: 7\n",
      "Accuracy: 0.800000\n",
      "Mistakes: 9\n",
      "Accuracy: 0.766667\n",
      "Mistakes: 6\n",
      "Accuracy: 0.833333\n",
      "Mistakes: 7\n",
      "Accuracy: 0.766667\n",
      "Mistakes: 8\n",
      "Accuracy: 0.833333\n",
      "Mistakes: 7\n",
      "Accuracy: 0.700000\n",
      "Mistakes: 8\n",
      "Accuracy: 0.800000\n",
      "Mistakes: 6\n",
      "Accuracy: 0.833333\n",
      "Mistakes: 7\n",
      "Accuracy: 0.800000\n",
      "Mistakes: 7\n",
      "Accuracy: 0.733333\n",
      "Mistakes: 8\n",
      "Accuracy: 0.800000\n",
      "Mistakes: 7\n",
      "Accuracy: 0.733333\n",
      "Mistakes: 7\n",
      "Accuracy: 0.833333\n",
      "Mistakes: 7\n",
      "Accuracy: 0.833333\n",
      "Mistakes: 5\n",
      "Accuracy: 0.833333\n",
      "Mistakes: 6\n",
      "Accuracy: 0.833333\n",
      "Mistakes: 7\n",
      "Accuracy: 0.833333\n",
      "Mistakes: 7\n",
      "Accuracy: 0.866667\n",
      "Mistakes: 6\n",
      "Accuracy: 0.833333\n",
      "Mistakes: 8\n",
      "Accuracy: 0.800000\n",
      "Mistakes: 7\n",
      "Accuracy: 0.766667\n",
      "Mistakes: 7\n",
      "Accuracy: 0.833333\n",
      "Mistakes: 7\n",
      "Accuracy: 0.833333\n",
      "Mistakes: 5\n",
      "Accuracy: 0.800000\n",
      "Mistakes: 9\n",
      "Accuracy: 0.800000\n",
      "Mistakes: 6\n",
      "Accuracy: 0.800000\n",
      "Mistakes: 8\n",
      "Accuracy: 0.766667\n",
      "Mistakes: 5\n",
      "Accuracy: 0.833333\n",
      "Mistakes: 7\n",
      "Accuracy: 0.833333\n",
      "Mistakes: 7\n",
      "Accuracy: 0.766667\n",
      "Mistakes: 8\n",
      "Accuracy: 0.800000\n",
      "Mistakes: 7\n",
      "Accuracy: 0.733333\n",
      "Mistakes: 7\n",
      "Accuracy: 0.833333\n",
      "Mistakes: 7\n",
      "Accuracy: 0.800000\n",
      "Mistakes: 6\n",
      "Accuracy: 0.833333\n",
      "Mistakes: 7\n",
      "Accuracy: 0.833333\n",
      "Mistakes: 7\n",
      "Accuracy: 0.800000\n",
      "Mistakes: 7\n",
      "Accuracy: 0.800000\n",
      "Mistakes: 8\n",
      "Accuracy: 0.833333\n",
      "Mistakes: 8\n",
      "Accuracy: 0.800000\n",
      "Mistakes: 7\n",
      "Accuracy: 0.833333\n",
      "Mistakes: 8\n",
      "Accuracy: 0.800000\n",
      "Mistakes: 7\n",
      "Accuracy: 0.766667\n",
      "Mistakes: 8\n",
      "Accuracy: 0.800000\n",
      "Mistakes: 6\n",
      "Accuracy: 0.833333\n",
      "Mistakes: 7\n",
      "Accuracy: 0.833333\n",
      "Mistakes: 5\n",
      "Accuracy: 0.800000\n",
      "Mistakes: 6\n",
      "Accuracy: 0.833333\n",
      "Mistakes: 7\n",
      "Accuracy: 0.833333\n",
      "Mistakes: 7\n",
      "Accuracy: 0.800000\n"
     ]
    },
    {
     "data": {
      "text/plain": "<Figure size 640x480 with 1 Axes>",
      "image/png": "[encoded data removed]"
     },
     "metadata": {},
     "output_type": "display_data"
    }
   ],
   "source": [
    "# TODO: Run algorithm, compute final accuracies, plot accuracies over epochs\n",
    "\n",
    "W = np.zeros((3, 3))\n",
    "eta = 1\n",
    "accuracies = []\n",
    "\n",
    "for i in range(100): # 100 epochs\n",
    "    W = multi_class_perceptron_epoch(inputs, labels, W, eta)\n",
    "    y_pred = multi_class_classify(inputs, W)\n",
    "    acc = accuracy(y_pred, labels)\n",
    "    accuracies.append(acc)\n",
    "    print(\"Accuracy: %f\" % acc)\n",
    "    \n",
    "plt.plot(accuracies)    \n",
    "plt.show()"
   ],
   "metadata": {
    "collapsed": false,
    "ExecuteTime": {
     "end_time": "2023-11-22T20:21:16.363018Z",
     "start_time": "2023-11-22T20:21:16.222021900Z"
    }
   }
  },
  {
   "cell_type": "markdown",
   "metadata": {},
   "source": [
    "## Question 3\n",
    "\n",
    "Now it's time to try the perceptron on real data and see what happens.  \n",
    "\n",
    "Let's load the UCI handwritten digits dataset using `scikit-learn`"
   ]
  },
  {
   "cell_type": "code",
   "execution_count": 31,
   "metadata": {
    "ExecuteTime": {
     "end_time": "2023-11-22T20:21:36.436715600Z",
     "start_time": "2023-11-22T20:21:35.069354500Z"
    }
   },
   "outputs": [],
   "source": [
    "from sklearn.datasets import load_digits\n",
    "\n",
    "data = load_digits()"
   ]
  },
  {
   "cell_type": "code",
   "execution_count": 32,
   "metadata": {
    "ExecuteTime": {
     "end_time": "2023-11-22T20:21:40.545709600Z",
     "start_time": "2023-11-22T20:21:40.532709900Z"
    }
   },
   "outputs": [],
   "source": [
    "X = data['data']\n",
    "y = data['target']"
   ]
  },
  {
   "cell_type": "code",
   "execution_count": 33,
   "metadata": {
    "ExecuteTime": {
     "end_time": "2023-11-22T20:21:43.859029200Z",
     "start_time": "2023-11-22T20:21:43.844028700Z"
    }
   },
   "outputs": [],
   "source": [
    "num_examples, num_features = np.shape(X)\n",
    "num_labels = np.max(y) + 1  # labels are 0, 1, ..., num_labels-1\n",
    "\n",
    "# Augment points with a dimension for the bias.\n",
    "X = np.concatenate([np.ones((num_examples, 1)), X], axis=1)"
   ]
  },
  {
   "cell_type": "markdown",
   "metadata": {},
   "source": [
    "This is a dataset containing $1797$ 8x8 input images of digits, each corresponding to one out of 10 output classes. \n",
    "You can print the dataset description with `print(data.DESCR)\n",
    "` and visualize some input examples:"
   ]
  },
  {
   "cell_type": "code",
   "execution_count": 34,
   "metadata": {
    "ExecuteTime": {
     "end_time": "2023-11-22T20:21:53.241255100Z",
     "start_time": "2023-11-22T20:21:52.755810500Z"
    }
   },
   "outputs": [
    {
     "data": {
      "text/plain": "<Figure size 640x480 with 0 Axes>"
     },
     "metadata": {},
     "output_type": "display_data"
    },
    {
     "data": {
      "text/plain": "<Figure size 480x480 with 1 Axes>",
      "image/png": "[encoded data removed]"
     },
     "metadata": {},
     "output_type": "display_data"
    },
    {
     "data": {
      "text/plain": "<Figure size 480x480 with 1 Axes>",
      "image/png": "[encoded data removed]"
     },
     "metadata": {},
     "output_type": "display_data"
    },
    {
     "data": {
      "text/plain": "<Figure size 480x480 with 1 Axes>",
      "image/png": "[encoded data removed]"
     },
     "metadata": {},
     "output_type": "display_data"
    }
   ],
   "source": [
    "import matplotlib.pyplot as plt\n",
    "\n",
    "plt.gray()\n",
    "for i in range(3):\n",
    "    plt.matshow(data.images[i])\n",
    "plt.show()"
   ]
  },
  {
   "cell_type": "markdown",
   "metadata": {},
   "source": [
    "We randomly split this data into training (80\\%) and test (20\\%) partitions. This can be done with:"
   ]
  },
  {
   "cell_type": "code",
   "execution_count": 35,
   "metadata": {
    "ExecuteTime": {
     "end_time": "2023-11-22T20:22:06.135305300Z",
     "start_time": "2023-11-22T20:22:06.038568200Z"
    }
   },
   "outputs": [],
   "source": [
    "from sklearn.model_selection import train_test_split\n",
    "\n",
    "X_train, X_test, y_train, y_test = train_test_split(\n",
    "    X, y, test_size=0.2, random_state=42)"
   ]
  },
  {
   "cell_type": "markdown",
   "metadata": {},
   "source": [
    "❓ Run your implementation of the multi-class perceptron algorithm on this dataset. Measure the training and test accuracy. "
   ]
  },
  {
   "cell_type": "code",
   "execution_count": 37,
   "metadata": {
    "ExecuteTime": {
     "end_time": "2023-11-22T20:22:34.556673400Z",
     "start_time": "2023-11-22T20:22:33.150938400Z"
    }
   },
   "outputs": [
    {
     "name": "stdout",
     "output_type": "stream",
     "text": [
      "Mistakes: 329\n",
      "Accuracy: 0.888657\n",
      "Mistakes: 161\n",
      "Accuracy: 0.937370\n",
      "Mistakes: 120\n",
      "Accuracy: 0.956159\n",
      "Mistakes: 91\n",
      "Accuracy: 0.866388\n",
      "Mistakes: 89\n",
      "Accuracy: 0.941545\n",
      "Mistakes: 82\n",
      "Accuracy: 0.947112\n",
      "Mistakes: 73\n",
      "Accuracy: 0.961030\n",
      "Mistakes: 80\n",
      "Accuracy: 0.951287\n",
      "Mistakes: 83\n",
      "Accuracy: 0.934586\n",
      "Mistakes: 74\n",
      "Accuracy: 0.974252\n",
      "Mistakes: 52\n",
      "Accuracy: 0.949200\n",
      "Mistakes: 66\n",
      "Accuracy: 0.947112\n",
      "Mistakes: 55\n",
      "Accuracy: 0.971468\n",
      "Mistakes: 48\n",
      "Accuracy: 0.972164\n",
      "Mistakes: 50\n",
      "Accuracy: 0.974252\n",
      "Mistakes: 62\n",
      "Accuracy: 0.958246\n",
      "Mistakes: 57\n",
      "Accuracy: 0.950592\n",
      "Mistakes: 38\n",
      "Accuracy: 0.983299\n",
      "Mistakes: 50\n",
      "Accuracy: 0.980515\n",
      "Mistakes: 38\n",
      "Accuracy: 0.972164\n",
      "Mistakes: 34\n",
      "Accuracy: 0.970077\n",
      "Mistakes: 37\n",
      "Accuracy: 0.974948\n",
      "Mistakes: 42\n",
      "Accuracy: 0.990257\n",
      "Mistakes: 39\n",
      "Accuracy: 0.962422\n",
      "Mistakes: 28\n",
      "Accuracy: 0.971468\n",
      "Mistakes: 30\n",
      "Accuracy: 0.974948\n",
      "Mistakes: 27\n",
      "Accuracy: 0.984690\n",
      "Mistakes: 26\n",
      "Accuracy: 0.949896\n",
      "Mistakes: 26\n",
      "Accuracy: 0.981211\n",
      "Mistakes: 24\n",
      "Accuracy: 0.981211\n",
      "Mistakes: 28\n",
      "Accuracy: 0.958246\n",
      "Mistakes: 34\n",
      "Accuracy: 0.983299\n",
      "Mistakes: 24\n",
      "Accuracy: 0.990257\n",
      "Mistakes: 23\n",
      "Accuracy: 0.990953\n",
      "Mistakes: 23\n",
      "Accuracy: 0.991649\n",
      "Mistakes: 19\n",
      "Accuracy: 0.988866\n",
      "Mistakes: 9\n",
      "Accuracy: 0.962422\n",
      "Mistakes: 24\n",
      "Accuracy: 0.988866\n",
      "Mistakes: 28\n",
      "Accuracy: 0.992345\n",
      "Mistakes: 17\n",
      "Accuracy: 0.994433\n",
      "Mistakes: 16\n",
      "Accuracy: 0.991649\n",
      "Mistakes: 21\n",
      "Accuracy: 0.986082\n",
      "Mistakes: 26\n",
      "Accuracy: 0.993041\n",
      "Mistakes: 23\n",
      "Accuracy: 0.989562\n",
      "Mistakes: 14\n",
      "Accuracy: 0.995129\n",
      "Mistakes: 21\n",
      "Accuracy: 0.978427\n",
      "Mistakes: 15\n",
      "Accuracy: 0.988866\n",
      "Mistakes: 14\n",
      "Accuracy: 0.993041\n",
      "Mistakes: 22\n",
      "Accuracy: 0.986778\n",
      "Mistakes: 26\n",
      "Accuracy: 0.988866\n",
      "Mistakes: 21\n",
      "Accuracy: 0.986082\n",
      "Mistakes: 13\n",
      "Accuracy: 0.966597\n",
      "Mistakes: 14\n",
      "Accuracy: 0.992345\n",
      "Mistakes: 12\n",
      "Accuracy: 0.990953\n",
      "Mistakes: 16\n",
      "Accuracy: 0.997216\n",
      "Mistakes: 4\n",
      "Accuracy: 0.995825\n",
      "Mistakes: 13\n",
      "Accuracy: 0.983994\n",
      "Mistakes: 15\n",
      "Accuracy: 0.983994\n",
      "Mistakes: 19\n",
      "Accuracy: 0.994433\n",
      "Mistakes: 9\n",
      "Accuracy: 0.991649\n",
      "Mistakes: 11\n",
      "Accuracy: 0.986778\n",
      "Mistakes: 17\n",
      "Accuracy: 0.997912\n",
      "Mistakes: 5\n",
      "Accuracy: 0.995825\n",
      "Mistakes: 8\n",
      "Accuracy: 0.983994\n",
      "Mistakes: 9\n",
      "Accuracy: 0.995825\n",
      "Mistakes: 15\n",
      "Accuracy: 0.988866\n",
      "Mistakes: 17\n",
      "Accuracy: 0.996521\n",
      "Mistakes: 10\n",
      "Accuracy: 0.978427\n",
      "Mistakes: 14\n",
      "Accuracy: 0.993737\n",
      "Mistakes: 14\n",
      "Accuracy: 0.995825\n",
      "Mistakes: 10\n",
      "Accuracy: 0.999304\n",
      "Mistakes: 7\n",
      "Accuracy: 0.995129\n",
      "Mistakes: 15\n",
      "Accuracy: 0.978427\n",
      "Mistakes: 13\n",
      "Accuracy: 0.994433\n",
      "Mistakes: 14\n",
      "Accuracy: 0.992345\n",
      "Mistakes: 14\n",
      "Accuracy: 0.999304\n",
      "Mistakes: 5\n",
      "Accuracy: 0.993041\n",
      "Mistakes: 9\n",
      "Accuracy: 0.994433\n",
      "Mistakes: 9\n",
      "Accuracy: 0.996521\n",
      "Mistakes: 11\n",
      "Accuracy: 0.988170\n",
      "Mistakes: 7\n",
      "Accuracy: 0.989562\n",
      "Mistakes: 11\n",
      "Accuracy: 0.990257\n",
      "Mistakes: 9\n",
      "Accuracy: 0.990953\n",
      "Mistakes: 13\n",
      "Accuracy: 0.993041\n",
      "Mistakes: 10\n",
      "Accuracy: 0.994433\n",
      "Mistakes: 6\n",
      "Accuracy: 0.992345\n",
      "Mistakes: 4\n",
      "Accuracy: 0.995129\n",
      "Mistakes: 14\n",
      "Accuracy: 0.997216\n",
      "Mistakes: 13\n",
      "Accuracy: 0.988866\n",
      "Mistakes: 14\n",
      "Accuracy: 0.996521\n",
      "Mistakes: 7\n",
      "Accuracy: 0.997216\n",
      "Mistakes: 3\n",
      "Accuracy: 1.000000\n",
      "Mistakes: 0\n",
      "Accuracy: 1.000000\n",
      "Mistakes: 0\n",
      "Accuracy: 1.000000\n",
      "Mistakes: 0\n",
      "Accuracy: 1.000000\n",
      "Mistakes: 0\n",
      "Accuracy: 1.000000\n",
      "Mistakes: 0\n",
      "Accuracy: 1.000000\n",
      "Mistakes: 0\n",
      "Accuracy: 1.000000\n",
      "Mistakes: 0\n",
      "Accuracy: 1.000000\n",
      "Mistakes: 0\n",
      "Accuracy: 1.000000\n",
      "Mistakes: 0\n",
      "Accuracy: 1.000000\n",
      "Mistakes: 0\n",
      "Accuracy: 1.000000\n",
      "Mistakes: 0\n",
      "Accuracy: 1.000000\n",
      "Mistakes: 0\n",
      "Accuracy: 1.000000\n",
      "Mistakes: 0\n",
      "Accuracy: 1.000000\n",
      "Mistakes: 0\n",
      "Accuracy: 1.000000\n",
      "Mistakes: 0\n",
      "Accuracy: 1.000000\n",
      "Mistakes: 0\n",
      "Accuracy: 1.000000\n",
      "Mistakes: 0\n",
      "Accuracy: 1.000000\n",
      "Mistakes: 0\n",
      "Accuracy: 1.000000\n",
      "Mistakes: 0\n",
      "Accuracy: 1.000000\n",
      "Mistakes: 0\n",
      "Accuracy: 1.000000\n",
      "Mistakes: 0\n",
      "Accuracy: 1.000000\n",
      "Mistakes: 0\n",
      "Accuracy: 1.000000\n",
      "Mistakes: 0\n",
      "Accuracy: 1.000000\n",
      "Mistakes: 0\n",
      "Accuracy: 1.000000\n",
      "Mistakes: 0\n",
      "Accuracy: 1.000000\n",
      "Mistakes: 0\n",
      "Accuracy: 1.000000\n",
      "Mistakes: 0\n",
      "Accuracy: 1.000000\n",
      "Mistakes: 0\n",
      "Accuracy: 1.000000\n",
      "Mistakes: 0\n",
      "Accuracy: 1.000000\n",
      "Mistakes: 0\n",
      "Accuracy: 1.000000\n",
      "Mistakes: 0\n",
      "Accuracy: 1.000000\n",
      "Mistakes: 0\n",
      "Accuracy: 1.000000\n",
      "Mistakes: 0\n",
      "Accuracy: 1.000000\n",
      "Mistakes: 0\n",
      "Accuracy: 1.000000\n",
      "Mistakes: 0\n",
      "Accuracy: 1.000000\n",
      "Mistakes: 0\n",
      "Accuracy: 1.000000\n",
      "Mistakes: 0\n",
      "Accuracy: 1.000000\n",
      "Mistakes: 0\n",
      "Accuracy: 1.000000\n",
      "Mistakes: 0\n",
      "Accuracy: 1.000000\n",
      "Mistakes: 0\n",
      "Accuracy: 1.000000\n",
      "Mistakes: 0\n",
      "Accuracy: 1.000000\n",
      "Mistakes: 0\n",
      "Accuracy: 1.000000\n",
      "Mistakes: 0\n",
      "Accuracy: 1.000000\n",
      "Mistakes: 0\n",
      "Accuracy: 1.000000\n",
      "Mistakes: 0\n",
      "Accuracy: 1.000000\n",
      "Mistakes: 0\n",
      "Accuracy: 1.000000\n",
      "Mistakes: 0\n",
      "Accuracy: 1.000000\n",
      "Mistakes: 0\n",
      "Accuracy: 1.000000\n",
      "Mistakes: 0\n",
      "Accuracy: 1.000000\n",
      "Mistakes: 0\n",
      "Accuracy: 1.000000\n",
      "Mistakes: 0\n",
      "Accuracy: 1.000000\n",
      "Mistakes: 0\n",
      "Accuracy: 1.000000\n",
      "Mistakes: 0\n",
      "Accuracy: 1.000000\n",
      "Mistakes: 0\n",
      "Accuracy: 1.000000\n",
      "Mistakes: 0\n",
      "Accuracy: 1.000000\n",
      "Mistakes: 0\n",
      "Accuracy: 1.000000\n",
      "Mistakes: 0\n",
      "Accuracy: 1.000000\n",
      "Mistakes: 0\n",
      "Accuracy: 1.000000\n",
      "Mistakes: 0\n",
      "Accuracy: 1.000000\n",
      "Mistakes: 0\n",
      "Accuracy: 1.000000\n",
      "Mistakes: 0\n",
      "Accuracy: 1.000000\n",
      "Mistakes: 0\n",
      "Accuracy: 1.000000\n",
      "Mistakes: 0\n",
      "Accuracy: 1.000000\n",
      "Mistakes: 0\n",
      "Accuracy: 1.000000\n",
      "Mistakes: 0\n",
      "Accuracy: 1.000000\n",
      "Mistakes: 0\n",
      "Accuracy: 1.000000\n",
      "Mistakes: 0\n",
      "Accuracy: 1.000000\n",
      "Mistakes: 0\n",
      "Accuracy: 1.000000\n",
      "Mistakes: 0\n",
      "Accuracy: 1.000000\n",
      "Mistakes: 0\n",
      "Accuracy: 1.000000\n",
      "Mistakes: 0\n",
      "Accuracy: 1.000000\n",
      "Mistakes: 0\n",
      "Accuracy: 1.000000\n",
      "Mistakes: 0\n",
      "Accuracy: 1.000000\n",
      "Mistakes: 0\n",
      "Accuracy: 1.000000\n",
      "Mistakes: 0\n",
      "Accuracy: 1.000000\n",
      "Mistakes: 0\n",
      "Accuracy: 1.000000\n",
      "Mistakes: 0\n",
      "Accuracy: 1.000000\n",
      "Mistakes: 0\n",
      "Accuracy: 1.000000\n",
      "Mistakes: 0\n",
      "Accuracy: 1.000000\n",
      "Mistakes: 0\n",
      "Accuracy: 1.000000\n",
      "Mistakes: 0\n",
      "Accuracy: 1.000000\n",
      "Mistakes: 0\n",
      "Accuracy: 1.000000\n",
      "Mistakes: 0\n",
      "Accuracy: 1.000000\n",
      "Mistakes: 0\n",
      "Accuracy: 1.000000\n",
      "Mistakes: 0\n",
      "Accuracy: 1.000000\n",
      "Mistakes: 0\n",
      "Accuracy: 1.000000\n",
      "Mistakes: 0\n",
      "Accuracy: 1.000000\n",
      "Mistakes: 0\n",
      "Accuracy: 1.000000\n",
      "Mistakes: 0\n",
      "Accuracy: 1.000000\n",
      "Mistakes: 0\n",
      "Accuracy: 1.000000\n",
      "Mistakes: 0\n",
      "Accuracy: 1.000000\n",
      "Mistakes: 0\n",
      "Accuracy: 1.000000\n",
      "Mistakes: 0\n",
      "Accuracy: 1.000000\n",
      "Mistakes: 0\n",
      "Accuracy: 1.000000\n",
      "Mistakes: 0\n",
      "Accuracy: 1.000000\n",
      "Mistakes: 0\n",
      "Accuracy: 1.000000\n",
      "Mistakes: 0\n",
      "Accuracy: 1.000000\n",
      "Mistakes: 0\n",
      "Accuracy: 1.000000\n",
      "Mistakes: 0\n",
      "Accuracy: 1.000000\n",
      "Mistakes: 0\n",
      "Accuracy: 1.000000\n",
      "Mistakes: 0\n",
      "Accuracy: 1.000000\n",
      "Mistakes: 0\n",
      "Accuracy: 1.000000\n",
      "Mistakes: 0\n",
      "Accuracy: 1.000000\n",
      "Mistakes: 0\n",
      "Accuracy: 1.000000\n",
      "Mistakes: 0\n",
      "Accuracy: 1.000000\n",
      "Mistakes: 0\n",
      "Accuracy: 1.000000\n",
      "Mistakes: 0\n",
      "Accuracy: 1.000000\n",
      "Mistakes: 0\n",
      "Accuracy: 1.000000\n"
     ]
    },
    {
     "data": {
      "text/plain": "<Figure size 640x480 with 1 Axes>",
      "image/png": "[encoded data removed]"
     },
     "metadata": {},
     "output_type": "display_data"
    }
   ],
   "source": [
    "W = np.zeros((num_labels, num_features + 1))\n",
    "eta = 1\n",
    "accuracies = []\n",
    "\n",
    "for i in range(200):\n",
    "    W = multi_class_perceptron_epoch(X_train, y_train, W, eta)\n",
    "    y_pred = multi_class_classify(X_train, W)\n",
    "    acc = accuracy(y_pred, y_train)\n",
    "    accuracies.append(acc)\n",
    "    print(\"Accuracy: %f\" % acc)\n",
    "\n",
    "plt.plot(accuracies)\n",
    "plt.show()"
   ]
  },
  {
   "cell_type": "markdown",
   "metadata": {},
   "source": [
    "Let's use `scikit-learn`'s implementation of the perceptron algorithm. You can check the [documentation](https://scikit-learn.org/stable/modules/generated/sklearn.linear_model.Perceptron.html) to understand what hyperparameters they are using and why the performances are different"
   ]
  },
  {
   "cell_type": "code",
   "execution_count": 38,
   "metadata": {
    "ExecuteTime": {
     "end_time": "2023-11-22T20:22:47.262947100Z",
     "start_time": "2023-11-22T20:22:47.146592100Z"
    }
   },
   "outputs": [
    {
     "name": "stdout",
     "output_type": "stream",
     "text": [
      "0.9735560194850382\n",
      "0.9583333333333334\n"
     ]
    }
   ],
   "source": [
    "from sklearn.linear_model import Perceptron\n",
    "\n",
    "clf = Perceptron(fit_intercept=False, shuffle=False)\n",
    "clf.fit(X_train, y_train)\n",
    "print(clf.score(X_train, y_train))\n",
    "print(clf.score(X_test, y_test))"
   ]
  }
 ],
 "metadata": {
  "kernelspec": {
   "display_name": "Python 3",
   "language": "python",
   "name": "python3"
  },
  "language_info": {
   "codemirror_mode": {
    "name": "ipython",
    "version": 3
   },
   "file_extension": ".py",
   "mimetype": "text/x-python",
   "name": "python",
   "nbconvert_exporter": "python",
   "pygments_lexer": "ipython3",
   "version": "3.8.3"
  }
 },
 "nbformat": 4,
 "nbformat_minor": 4
}
