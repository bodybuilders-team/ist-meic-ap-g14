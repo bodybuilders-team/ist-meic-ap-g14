{
 "cells": [
  {
   "cell_type": "markdown",
   "metadata": {},
   "source": [
    "# Perceptron\n",
    "\n",
    "Answer all marked questions (❓).  "
   ]
  },
  {
   "cell_type": "code",
   "execution_count": 2,
   "metadata": {
    "ExecuteTime": {
     "end_time": "2023-11-26T17:44:41.081296300Z",
     "start_time": "2023-11-26T17:44:39.824690300Z"
    }
   },
   "outputs": [],
   "source": [
    "import matplotlib.pyplot as plt\n",
    "import numpy as np\n",
    "%matplotlib inline"
   ]
  },
  {
   "cell_type": "markdown",
   "metadata": {},
   "source": [
    "## Question 1"
   ]
  },
  {
   "cell_type": "markdown",
   "metadata": {},
   "source": [
    "Consider the following linearly separable training set:\n",
    "\n",
    "$\\mathbf{x^{(1)}} =\\begin{bmatrix} -1 \\\\ 0  \\\\ \\end{bmatrix} $,  $\\mathbf{x^{(2)}} =\\begin{bmatrix} 0 \\\\ 0.25  \\\\ \\end{bmatrix} $,   $\\mathbf{x^{(3)}} =\\begin{bmatrix} 1 \\\\ 1 \\\\ \\end{bmatrix} $,      $\\mathbf{x^{(4)}} =\\begin{bmatrix} 1 \\\\ -1  \\\\ \\end{bmatrix} $\n",
    "\n",
    "$y^{(1)} = -1$, $y^{(2)} = +1$, $y^{(3)} = +1$, $y^{(4)} = -1$\n"
   ]
  },
  {
   "cell_type": "code",
   "execution_count": 2,
   "metadata": {
    "ExecuteTime": {
     "end_time": "2023-11-25T11:04:24.766459600Z",
     "start_time": "2023-11-25T11:04:24.750460500Z"
    }
   },
   "outputs": [
    {
     "name": "stdout",
     "output_type": "stream",
     "text": [
      "(4, 3)\n"
     ]
    }
   ],
   "source": [
    "# Define points\n",
    "inputs = np.array([[-1, 0], [0, 0.25], [1, 1], [1, -1]])\n",
    "labels = np.array([-1, 1, 1, -1])\n",
    "\n",
    "num_examples, num_features = np.shape(inputs)\n",
    "\n",
    "# Augment points with a dimension for the bias.\n",
    "inputs = np.concatenate([np.ones((num_examples, 1)), inputs], axis=1)\n",
    "\n",
    "print(np.shape(inputs))"
   ]
  },
  {
   "cell_type": "markdown",
   "metadata": {},
   "source": [
    "❓ Let us use the perceptron algorithm to separate the two classes of points.\n",
    "\n",
    "1. Initialize all weights to zero (including the bias) \n",
    "2. Assume $sign(z) = +1$ iff $z ≥ 0$, and $−1$ if $z < 0$ \n",
    "3. Complete provided fucntion `perceptron_epoch` which performs one epoch of the perceptron algorithm\n",
    "4. Use a learning rate of one\n",
    "5. Apply algorithm until convergence \n",
    "\n",
    "Note: You can use provided function `plot_separation_line` to see the points and the separating hyperplane in each epoch"
   ]
  },
  {
   "cell_type": "code",
   "execution_count": 3,
   "metadata": {
    "ExecuteTime": {
     "end_time": "2023-11-25T11:04:24.809459Z",
     "start_time": "2023-11-25T11:04:24.767460Z"
    }
   },
   "outputs": [],
   "source": [
    "def perceptron_epoch(inputs, labels, w, eta):\n",
    "    \"\"\"\n",
    "    Function to execute perceptron epoch. \n",
    "    \n",
    "    Receives inputs, labels, previous weights (w) and learning rate(eta)\n",
    "    \n",
    "    Should output number of mistakes and new weights\n",
    "    \"\"\"\n",
    "    mistakes = 0\n",
    "\n",
    "    for x, y in zip(inputs, labels):\n",
    "        y_hat = np.sign(np.dot(w, x))\n",
    "        if y_hat != y:\n",
    "            mistakes += 1\n",
    "            w += eta * y * x\n",
    "\n",
    "    print(\"Mistakes: %d\" % mistakes)\n",
    "    print(\"Weights: %s\" % w)\n",
    "    return mistakes, w"
   ]
  },
  {
   "cell_type": "code",
   "execution_count": 4,
   "metadata": {
    "ExecuteTime": {
     "end_time": "2023-11-25T11:04:24.822457900Z",
     "start_time": "2023-11-25T11:04:24.780457600Z"
    }
   },
   "outputs": [],
   "source": [
    "# Plot separation line associated with model w, along with the data.\n",
    "def plot_separation_line(inputs, labels, w):\n",
    "    # Plot data.\n",
    "    plt.plot(inputs[labels == -1, 1], inputs[labels == -1, 2], \"b.\")\n",
    "    plt.plot(inputs[labels == 1, 1], inputs[labels == 1, 2], \"r.\")\n",
    "    # Plot model separation line.\n",
    "    x1 = np.array([-2, 2])\n",
    "    x2 = (-w[0] - w[1] * x1) / w[2]\n",
    "    plt.plot(x1, x2, 'k--')\n",
    "    plt.show()"
   ]
  },
  {
   "cell_type": "code",
   "execution_count": 9,
   "outputs": [
    {
     "name": "stdout",
     "output_type": "stream",
     "text": [
      "(3,)\n",
      "[0. 0. 0.]\n"
     ]
    },
    {
     "ename": "NameError",
     "evalue": "name 'perceptron_epoch' is not defined",
     "output_type": "error",
     "traceback": [
      "\u001B[1;31m---------------------------------------------------------------------------\u001B[0m",
      "\u001B[1;31mNameError\u001B[0m                                 Traceback (most recent call last)",
      "Cell \u001B[1;32mIn[9], line 9\u001B[0m\n\u001B[0;32m      6\u001B[0m converged \u001B[38;5;241m=\u001B[39m \u001B[38;5;28;01mFalse\u001B[39;00m\n\u001B[0;32m      8\u001B[0m \u001B[38;5;28;01mwhile\u001B[39;00m \u001B[38;5;129;01mnot\u001B[39;00m converged:\n\u001B[1;32m----> 9\u001B[0m     mistakes, w \u001B[38;5;241m=\u001B[39m \u001B[43mperceptron_epoch\u001B[49m(inputs, labels, w, eta)\n\u001B[0;32m     10\u001B[0m     plot_separation_line(inputs, labels, w)\n\u001B[0;32m     11\u001B[0m     \u001B[38;5;28;01mif\u001B[39;00m mistakes \u001B[38;5;241m==\u001B[39m \u001B[38;5;241m0\u001B[39m:\n",
      "\u001B[1;31mNameError\u001B[0m: name 'perceptron_epoch' is not defined"
     ]
    }
   ],
   "source": [
    "# Initialize weights and apply algorithm until convergence\n",
    "w = np.zeros(num_features + 1)  # weights\n",
    "print(w.shape)\n",
    "print(w)\n",
    "eta = 1  # learning rate\n",
    "converged = False\n",
    "\n",
    "while not converged:\n",
    "    mistakes, w = perceptron_epoch(inputs, labels, w, eta)\n",
    "    plot_separation_line(inputs, labels, w)\n",
    "    if mistakes == 0:\n",
    "        converged = True"
   ],
   "metadata": {
    "collapsed": false,
    "ExecuteTime": {
     "end_time": "2023-11-26T17:48:47.611757600Z",
     "start_time": "2023-11-26T17:48:47.588204600Z"
    }
   }
  },
  {
   "cell_type": "markdown",
   "metadata": {},
   "source": [
    "❓ What is the perceptron output for query point $\\begin{bmatrix} 0 && 1   \\end{bmatrix}^T$?"
   ]
  },
  {
   "cell_type": "code",
   "execution_count": 6,
   "metadata": {
    "ExecuteTime": {
     "end_time": "2023-11-25T11:04:25.308900900Z",
     "start_time": "2023-11-25T11:04:25.285896Z"
    }
   },
   "outputs": [
    {
     "name": "stdout",
     "output_type": "stream",
     "text": [
      "1.0\n"
     ]
    }
   ],
   "source": [
    "y = np.sign(np.dot(w, np.array([1, 0, 1])))\n",
    "print(y)"
   ]
  },
  {
   "cell_type": "markdown",
   "metadata": {},
   "source": [
    "❓ Change the initialization of weights and biases to be random with a standard normal distribution $\\mathcal{N}(0,1)$. Try multiple times. Does it always converge?\n",
    "\n",
    "*Hint:* `np.random.randn`"
   ]
  },
  {
   "cell_type": "code",
   "execution_count": 7,
   "metadata": {
    "ExecuteTime": {
     "end_time": "2023-11-25T11:04:25.540900700Z",
     "start_time": "2023-11-25T11:04:25.302902600Z"
    }
   },
   "outputs": [
    {
     "name": "stdout",
     "output_type": "stream",
     "text": [
      "Mistakes: 3\n",
      "Weights: [0.26561499 0.38984483 0.72908238]\n"
     ]
    },
    {
     "data": {
      "text/plain": "<Figure size 640x480 with 1 Axes>",
      "image/png": "[encoded data removed]"
     },
     "metadata": {},
     "output_type": "display_data"
    },
    {
     "name": "stdout",
     "output_type": "stream",
     "text": [
      "Mistakes: 0\n",
      "Weights: [0.26561499 0.38984483 0.72908238]\n"
     ]
    },
    {
     "data": {
      "text/plain": "<Figure size 640x480 with 1 Axes>",
      "image/png": "[encoded data removed]"
     },
     "metadata": {},
     "output_type": "display_data"
    }
   ],
   "source": [
    "weights = np.random.randn(3)\n",
    "eta = 1\n",
    "converged = False\n",
    "\n",
    "while not converged:\n",
    "    mistakes, weights = perceptron_epoch(inputs, labels, weights, eta)\n",
    "    plot_separation_line(inputs, labels, weights)\n",
    "    if mistakes == 0:\n",
    "        converged = True"
   ]
  },
  {
   "cell_type": "markdown",
   "metadata": {},
   "source": [
    "## Question 2 "
   ]
  },
  {
   "cell_type": "markdown",
   "metadata": {},
   "source": [
    "Let us generate a balanced dataset with 30 examples in $\\mathbb{R}^2$ and 3 classes. \n",
    "Assume each of the 10 inputs associated to class $k \\in \\{0,1,2\\}$ is generated as $x \\sim \\mathcal{N}(\\mu_k, \\sigma_k^2 I)$, with $\\sigma_0=\\sigma_1=\\sigma_2 = 1$, \n",
    "$\\mu_0 = [0, 0]^\\top$, $\\mu_1 = [0, 3]^\\top$, and $\\mu_2 = [2, 2]^\\top$.\n",
    "\n",
    "❓ Plot the data"
   ]
  },
  {
   "cell_type": "code",
   "execution_count": 3,
   "metadata": {
    "ExecuteTime": {
     "end_time": "2023-11-26T17:44:47.948243600Z",
     "start_time": "2023-11-26T17:44:47.938226600Z"
    }
   },
   "outputs": [
    {
     "name": "stdout",
     "output_type": "stream",
     "text": [
      "(30, 3)\n",
      "(30,)\n"
     ]
    }
   ],
   "source": [
    "#np.random.seed(42)\n",
    "\n",
    "inputs0 = np.array([0, 0]) + np.random.randn(10, 2)\n",
    "inputs1 = np.array([0, 3]) + np.random.randn(10, 2)\n",
    "inputs2 = np.array([2, 2]) + np.random.randn(10, 2)\n",
    "\n",
    "inputs = np.concatenate([inputs0, inputs1, inputs2], axis=0)\n",
    "\n",
    "num_examples, num_features = np.shape(inputs)\n",
    "num_classes = 3\n",
    "\n",
    "# Augment points with a dimension for the bias.\n",
    "inputs = np.concatenate([np.ones((30, 1)), inputs], axis=1)\n",
    "#print(inputs)\n",
    "\n",
    "labels = np.array([0] * 10 + [1] * 10 + [2] * 10)\n",
    "print(np.shape(inputs))\n",
    "print(np.shape(labels))\n",
    "\n",
    "# Shuffling observations\n",
    "ind = np.random.permutation(30)\n",
    "inputs = inputs[ind, :]\n",
    "labels = labels[ind]"
   ]
  },
  {
   "cell_type": "code",
   "execution_count": 9,
   "metadata": {
    "ExecuteTime": {
     "end_time": "2023-11-25T11:04:25.671895700Z",
     "start_time": "2023-11-25T11:04:25.555897200Z"
    }
   },
   "outputs": [
    {
     "data": {
      "text/plain": "<Figure size 640x480 with 1 Axes>",
      "image/png": "[encoded data removed]"
     },
     "metadata": {},
     "output_type": "display_data"
    }
   ],
   "source": [
    "# Plot data\n",
    "plt.plot(inputs[labels == 0, 1], inputs[labels == 0, 2], \"b.\")\n",
    "plt.plot(inputs[labels == 1, 1], inputs[labels == 1, 2], \"r.\")\n",
    "plt.plot(inputs[labels == 2, 1], inputs[labels == 2, 2], \"g.\")\n",
    "plt.show()\n"
   ]
  },
  {
   "cell_type": "markdown",
   "metadata": {},
   "source": [
    "❓ Implement the multi-class perceptron algorithm by completing the `multi_class_perceptron_epoch` function. \n",
    "\n",
    "❓ Complete function `multi_class_classify` so that it provides the predicted labels given the inputs and the weights.\n",
    "\n",
    "❓ Create or import a function that computes accuracy given the arrays of predicted and correct labels.\n",
    "\n",
    "❓ Run 100 iterations of the algorithm, initializing all the weights to zero and using a learning rate of one. Save the accuracy of each epoch in a list. \n",
    "\n",
    "❓ What is the training accuracy (fraction of points that are correctly classified)?\n",
    "\n",
    "❓ Plot the accuracies over epochs.\n",
    "\n",
    "Note: Don't forget you have to augment the `inputs` with a dimension for the bias!"
   ]
  },
  {
   "cell_type": "code",
   "execution_count": 9,
   "metadata": {
    "ExecuteTime": {
     "end_time": "2023-11-25T11:05:03.853987900Z",
     "start_time": "2023-11-25T11:05:03.836698800Z"
    }
   },
   "outputs": [],
   "source": [
    "def multi_class_perceptron_epoch(inputs, labels, W, eta=1):\n",
    "    mistakes = 0\n",
    "    for x, y in zip(inputs, labels):\n",
    "        y_hat = np.argmax(np.dot(W, x))\n",
    "        if y_hat != y:\n",
    "            mistakes += 1\n",
    "            W[y] += eta * x\n",
    "            W[y_hat] -= eta * x\n",
    "\n",
    "    print(\"Mistakes: %d\" % mistakes)\n",
    "    return W"
   ]
  },
  {
   "cell_type": "code",
   "execution_count": 10,
   "metadata": {
    "ExecuteTime": {
     "end_time": "2023-11-25T11:05:05.595699100Z",
     "start_time": "2023-11-25T11:05:05.581701200Z"
    }
   },
   "outputs": [],
   "source": [
    "def multi_class_classify(inputs, W):\n",
    "    predicted_labels = np.argmax(np.dot(inputs, W.T), axis=1)\n",
    "    return predicted_labels"
   ]
  },
  {
   "cell_type": "code",
   "execution_count": 11,
   "metadata": {
    "ExecuteTime": {
     "end_time": "2023-11-25T11:05:07.058700300Z",
     "start_time": "2023-11-25T11:05:07.038701100Z"
    }
   },
   "outputs": [],
   "source": [
    "def accuracy(y_pred, y_true):\n",
    "    return np.mean(y_pred == y_true)"
   ]
  },
  {
   "cell_type": "code",
   "execution_count": 10,
   "outputs": [
    {
     "name": "stdout",
     "output_type": "stream",
     "text": [
      "(3, 3)\n",
      "[[0. 0. 0.]\n",
      " [0. 0. 0.]\n",
      " [0. 0. 0.]]\n"
     ]
    },
    {
     "ename": "NameError",
     "evalue": "name 'multi_class_perceptron_epoch' is not defined",
     "output_type": "error",
     "traceback": [
      "\u001B[1;31m---------------------------------------------------------------------------\u001B[0m",
      "\u001B[1;31mNameError\u001B[0m                                 Traceback (most recent call last)",
      "Cell \u001B[1;32mIn[10], line 9\u001B[0m\n\u001B[0;32m      6\u001B[0m \u001B[38;5;28mprint\u001B[39m(W)\n\u001B[0;32m      8\u001B[0m \u001B[38;5;28;01mfor\u001B[39;00m i \u001B[38;5;129;01min\u001B[39;00m \u001B[38;5;28mrange\u001B[39m(\u001B[38;5;241m100\u001B[39m):  \u001B[38;5;66;03m# 100 epochs\u001B[39;00m\n\u001B[1;32m----> 9\u001B[0m     W \u001B[38;5;241m=\u001B[39m \u001B[43mmulti_class_perceptron_epoch\u001B[49m(inputs, labels, W, eta) \u001B[38;5;66;03m# train\u001B[39;00m\n\u001B[0;32m     10\u001B[0m     y_pred \u001B[38;5;241m=\u001B[39m multi_class_classify(inputs, W) \u001B[38;5;66;03m# predict\u001B[39;00m\n\u001B[0;32m     11\u001B[0m     acc \u001B[38;5;241m=\u001B[39m accuracy(y_pred, labels)\n",
      "\u001B[1;31mNameError\u001B[0m: name 'multi_class_perceptron_epoch' is not defined"
     ]
    }
   ],
   "source": [
    "W = np.zeros((num_classes, num_features + 1))\n",
    "eta = 1\n",
    "accuracies = []\n",
    "\n",
    "print(W.shape)\n",
    "print(W)\n",
    "\n",
    "for i in range(100):  # 100 epochs\n",
    "    W = multi_class_perceptron_epoch(inputs, labels, W, eta) # train\n",
    "    y_pred = multi_class_classify(inputs, W) # predict\n",
    "    acc = accuracy(y_pred, labels)\n",
    "    accuracies.append(acc)\n",
    "    print(\"Accuracy: %f\" % acc)\n",
    "\n",
    "plt.plot(accuracies)\n",
    "plt.show()"
   ],
   "metadata": {
    "collapsed": false,
    "ExecuteTime": {
     "end_time": "2023-11-26T17:49:41.791014300Z",
     "start_time": "2023-11-26T17:49:41.734895500Z"
    }
   }
  },
  {
   "cell_type": "markdown",
   "metadata": {},
   "source": [
    "## Question 3\n",
    "\n",
    "Now it's time to try the perceptron on real data and see what happens.  \n",
    "\n",
    "Let's load the UCI handwritten digits dataset using `scikit-learn`"
   ]
  },
  {
   "cell_type": "code",
   "execution_count": 14,
   "metadata": {
    "ExecuteTime": {
     "end_time": "2023-11-25T11:04:26.658423200Z",
     "start_time": "2023-11-25T11:04:25.870415600Z"
    }
   },
   "outputs": [],
   "source": [
    "from sklearn.datasets import load_digits\n",
    "\n",
    "data = load_digits()"
   ]
  },
  {
   "cell_type": "code",
   "execution_count": 15,
   "metadata": {
    "ExecuteTime": {
     "end_time": "2023-11-25T11:04:26.670424400Z",
     "start_time": "2023-11-25T11:04:26.651425700Z"
    }
   },
   "outputs": [],
   "source": [
    "X = data['data']\n",
    "y = data['target']"
   ]
  },
  {
   "cell_type": "code",
   "execution_count": 16,
   "metadata": {
    "ExecuteTime": {
     "end_time": "2023-11-25T11:04:26.691423900Z",
     "start_time": "2023-11-25T11:04:26.665424Z"
    }
   },
   "outputs": [],
   "source": [
    "num_examples, num_features = np.shape(X)\n",
    "num_labels = np.max(y) + 1  # labels are 0, 1, ..., num_labels-1\n",
    "\n",
    "# Augment points with a dimension for the bias.\n",
    "X = np.concatenate([np.ones((num_examples, 1)), X], axis=1)"
   ]
  },
  {
   "cell_type": "markdown",
   "metadata": {},
   "source": [
    "This is a dataset containing $1797$ 8x8 input images of digits, each corresponding to one out of 10 output classes. \n",
    "You can print the dataset description with `print(data.DESCR)\n",
    "` and visualize some input examples:"
   ]
  },
  {
   "cell_type": "code",
   "execution_count": 17,
   "metadata": {
    "ExecuteTime": {
     "end_time": "2023-11-25T11:04:27.249422900Z",
     "start_time": "2023-11-25T11:04:26.683423800Z"
    }
   },
   "outputs": [
    {
     "data": {
      "text/plain": "<Figure size 640x480 with 0 Axes>"
     },
     "metadata": {},
     "output_type": "display_data"
    },
    {
     "data": {
      "text/plain": "<Figure size 480x480 with 1 Axes>",
      "image/png": "[encoded data removed]"
     },
     "metadata": {},
     "output_type": "display_data"
    },
    {
     "data": {
      "text/plain": "<Figure size 480x480 with 1 Axes>",
      "image/png": "[encoded data removed]"
     },
     "metadata": {},
     "output_type": "display_data"
    },
    {
     "data": {
      "text/plain": "<Figure size 480x480 with 1 Axes>",
      "image/png": "[encoded data removed]"
     },
     "metadata": {},
     "output_type": "display_data"
    }
   ],
   "source": [
    "import matplotlib.pyplot as plt\n",
    "\n",
    "plt.gray()\n",
    "for i in range(3):\n",
    "    plt.matshow(data.images[i])\n",
    "plt.show()"
   ]
  },
  {
   "cell_type": "markdown",
   "metadata": {},
   "source": [
    "We randomly split this data into training (80\\%) and test (20\\%) partitions. This can be done with:"
   ]
  },
  {
   "cell_type": "code",
   "execution_count": 18,
   "metadata": {
    "ExecuteTime": {
     "end_time": "2023-11-25T11:04:27.311087600Z",
     "start_time": "2023-11-25T11:04:27.250427Z"
    }
   },
   "outputs": [],
   "source": [
    "from sklearn.model_selection import train_test_split\n",
    "\n",
    "X_train, X_test, y_train, y_test = train_test_split(\n",
    "    X, y, test_size=0.2, random_state=42)"
   ]
  },
  {
   "cell_type": "markdown",
   "metadata": {},
   "source": [
    "❓ Run your implementation of the multi-class perceptron algorithm on this dataset. Measure the training and test accuracy. "
   ]
  },
  {
   "cell_type": "code",
   "execution_count": null,
   "metadata": {
    "is_executing": true,
    "ExecuteTime": {
     "start_time": "2023-11-25T11:04:27.314088500Z"
    }
   },
   "outputs": [
    {
     "name": "stdout",
     "output_type": "stream",
     "text": [
      "Mistakes: 329\n"
     ]
    }
   ],
   "source": [
    "W = np.zeros((num_labels, num_features + 1))\n",
    "eta = 1\n",
    "accuracies = []\n",
    "\n",
    "for i in range(200):\n",
    "    W = multi_class_perceptron_epoch(X_train, y_train, W, eta)\n",
    "    y_pred = multi_class_classify(X_train, W)\n",
    "    acc = accuracy(y_pred, y_train)\n",
    "    accuracies.append(acc)\n",
    "    print(\"Accuracy: %f\" % acc)\n",
    "\n",
    "plt.plot(accuracies)\n",
    "plt.show()"
   ]
  },
  {
   "cell_type": "markdown",
   "metadata": {},
   "source": [
    "Let's use `scikit-learn`'s implementation of the perceptron algorithm. You can check the [documentation](https://scikit-learn.org/stable/modules/generated/sklearn.linear_model.Perceptron.html) to understand what hyperparameters they are using and why the performances are different"
   ]
  },
  {
   "cell_type": "code",
   "execution_count": null,
   "metadata": {
    "is_executing": true
   },
   "outputs": [],
   "source": [
    "from sklearn.linear_model import Perceptron\n",
    "\n",
    "clf = Perceptron(fit_intercept=False, shuffle=False)\n",
    "clf.fit(X_train, y_train)\n",
    "print(clf.score(X_train, y_train))\n",
    "print(clf.score(X_test, y_test))"
   ]
  }
 ],
 "metadata": {
  "kernelspec": {
   "display_name": "Python 3",
   "language": "python",
   "name": "python3"
  },
  "language_info": {
   "codemirror_mode": {
    "name": "ipython",
    "version": 3
   },
   "file_extension": ".py",
   "mimetype": "text/x-python",
   "name": "python",
   "nbconvert_exporter": "python",
   "pygments_lexer": "ipython3",
   "version": "3.8.3"
  }
 },
 "nbformat": 4,
 "nbformat_minor": 4
}
